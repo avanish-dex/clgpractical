{
 "cells": [
  {
   "cell_type": "code",
   "execution_count": 6,
   "metadata": {},
   "outputs": [],
   "source": [
    "import numpy as np\n",
    "import pandas as pd\n",
    "from mlxtend.frequent_patterns import apriori\n",
    "from mlxtend.frequent_patterns import association_rules"
   ]
  },
  {
   "cell_type": "code",
   "execution_count": 2,
   "metadata": {},
   "outputs": [
    {
     "ename": "SyntaxError",
     "evalue": "(unicode error) 'unicodeescape' codec can't decode bytes in position 2-3: truncated \\UXXXXXXXX escape (2823630971.py, line 1)",
     "output_type": "error",
     "traceback": [
      "\u001b[1;36m  Cell \u001b[1;32mIn[2], line 1\u001b[1;36m\u001b[0m\n\u001b[1;33m    myretaildata=pd.read_excel('C:\\Users\\LENOVO\\AppData\\Local\\Programs\\Python\\Python310\\sosftwaretesting\\Online Retail.xlsx')\u001b[0m\n\u001b[1;37m                               ^\u001b[0m\n\u001b[1;31mSyntaxError\u001b[0m\u001b[1;31m:\u001b[0m (unicode error) 'unicodeescape' codec can't decode bytes in position 2-3: truncated \\UXXXXXXXX escape\n"
     ]
    }
   ],
   "source": [
    "myretaildata=pd.read_excel('Online Retail.xlsx')\n",
    "myretaildata.head()"
   ]
  },
  {
   "cell_type": "code",
   "execution_count": 19,
   "metadata": {},
   "outputs": [
    {
     "ename": "NameError",
     "evalue": "name 'myretaildata' is not defined",
     "output_type": "error",
     "traceback": [
      "\u001b[1;31m---------------------------------------------------------------------------\u001b[0m",
      "\u001b[1;31mNameError\u001b[0m                                 Traceback (most recent call last)",
      "Cell \u001b[1;32mIn[19], line 1\u001b[0m\n\u001b[1;32m----> 1\u001b[0m myretaildata[\u001b[39m'\u001b[39m\u001b[39mDescription\u001b[39m\u001b[39m'\u001b[39m]\u001b[39m=\u001b[39mmyretaildata[\u001b[39m'\u001b[39m\u001b[39mDescription\u001b[39m\u001b[39m'\u001b[39m]\u001b[39m.\u001b[39mstr\u001b[39m.\u001b[39mstrip()\n\u001b[0;32m      2\u001b[0m myretaildata\u001b[39m.\u001b[39mdropna(axis\u001b[39m=\u001b[39m\u001b[39m0\u001b[39m,subset\u001b[39m=\u001b[39m[\u001b[39m'\u001b[39m\u001b[39mInvoiceNo\u001b[39m\u001b[39m'\u001b[39m],inplace\u001b[39m=\u001b[39m\u001b[39mTrue\u001b[39;00m)\n\u001b[0;32m      3\u001b[0m myretaildata\u001b[39m.\u001b[39mdropna[\u001b[39m'\u001b[39m\u001b[39mInvoiceNo\u001b[39m\u001b[39m'\u001b[39m]\u001b[39m=\u001b[39mmyretaildata[\u001b[39m'\u001b[39m\u001b[39mInvoiceNo\u001b[39m\u001b[39m'\u001b[39m]\u001b[39m.\u001b[39mastype(\u001b[39m'\u001b[39m\u001b[39mstr\u001b[39m\u001b[39m'\u001b[39m)\n",
      "\u001b[1;31mNameError\u001b[0m: name 'myretaildata' is not defined"
     ]
    }
   ],
   "source": [
    "myretaildata['Description']=myretaildata['Description'].str.strip()\n",
    "myretaildata.dropna(axis=0,subset=['InvoiceNo'],inplace=True)\n",
    "myretaildata.dropna['InvoiceNo']=myretaildata['InvoiceNo'].astype('str')\n",
    "myretaildata=myretaildata[~myretaildata['InvoiceNo'].str.contains('C')]\n",
    "myretaildata.head()"
   ]
  },
  {
   "cell_type": "code",
   "execution_count": null,
   "metadata": {},
   "outputs": [],
   "source": [
    "myretaildata['Country'].value_counts()"
   ]
  }
 ],
 "metadata": {
  "kernelspec": {
   "display_name": "Python 3",
   "language": "python",
   "name": "python3"
  },
  "language_info": {
   "codemirror_mode": {
    "name": "ipython",
    "version": 3
   },
   "file_extension": ".py",
   "mimetype": "text/x-python",
   "name": "python",
   "nbconvert_exporter": "python",
   "pygments_lexer": "ipython3",
   "version": "3.8.0"
  },
  "orig_nbformat": 4
 },
 "nbformat": 4,
 "nbformat_minor": 2
}
